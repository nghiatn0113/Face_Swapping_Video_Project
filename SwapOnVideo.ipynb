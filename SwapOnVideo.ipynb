{
 "cells": [
  {
   "cell_type": "code",
   "execution_count": 1,
   "id": "6479832e",
   "metadata": {},
   "outputs": [],
   "source": [
    "import numpy as np\n",
    "import cv2\n",
    "import dlib\n",
    "import matplotlib.pyplot as plt"
   ]
  },
  {
   "cell_type": "markdown",
   "id": "766bdf5d",
   "metadata": {},
   "source": [
    "# Các hàm xử lý"
   ]
  },
  {
   "cell_type": "code",
   "execution_count": 2,
   "id": "2c37746f",
   "metadata": {},
   "outputs": [],
   "source": [
    "detector = dlib.get_frontal_face_detector()\n",
    "predictor = dlib.shape_predictor(\"shape_predictor_68_face_landmarks.dat\")"
   ]
  },
  {
   "cell_type": "code",
   "execution_count": 3,
   "id": "5dcb4255",
   "metadata": {},
   "outputs": [],
   "source": [
    "SOURCE = './dataset/messi.jpg'"
   ]
  },
  {
   "cell_type": "code",
   "execution_count": 4,
   "id": "ebea8094",
   "metadata": {},
   "outputs": [],
   "source": [
    "def extract_index_nparray(nparray):\n",
    "    index = None\n",
    "    for num in nparray[0]:\n",
    "        index = num\n",
    "        break\n",
    "    return index"
   ]
  },
  {
   "cell_type": "code",
   "execution_count": 5,
   "id": "70ee050d",
   "metadata": {},
   "outputs": [],
   "source": [
    "def constructLandmarks(img_gray):\n",
    "    faces = detector(img_gray)\n",
    "    for face in faces:\n",
    "        landmarks = predictor(img_gray, face)\n",
    "        landmarks_points = []\n",
    "        \n",
    "        for n in range(0, 68):\n",
    "            x = landmarks.part(n).x\n",
    "            y = landmarks.part(n).y\n",
    "            landmarks_points.append((x, y))\n",
    "\n",
    "\n",
    "        points = np.array(landmarks_points, np.int32)\n",
    "        convexhull = cv2.convexHull(points)\n",
    "                \n",
    "    return points, landmarks_points, convexhull"
   ]
  },
  {
   "cell_type": "code",
   "execution_count": 6,
   "id": "58f3acfe",
   "metadata": {},
   "outputs": [],
   "source": [
    "def exportTriangles(convexhull, points, landmarks_points):\n",
    "    # Delaunay triangulation\n",
    "    rect = cv2.boundingRect(convexhull)\n",
    "    subdiv = cv2.Subdiv2D(rect)\n",
    "    subdiv.insert(landmarks_points)\n",
    "    triangles = subdiv.getTriangleList()\n",
    "    triangles = np.array(triangles, dtype=np.int32)\n",
    "\n",
    "    indexes_triangles = []\n",
    "    for t in triangles:\n",
    "        pt1 = (t[0], t[1])\n",
    "        pt2 = (t[2], t[3])\n",
    "        pt3 = (t[4], t[5])\n",
    "\n",
    "\n",
    "        index_pt1 = np.where((points == pt1).all(axis=1))\n",
    "        index_pt1 = extract_index_nparray(index_pt1)\n",
    "\n",
    "        index_pt2 = np.where((points == pt2).all(axis=1))\n",
    "        index_pt2 = extract_index_nparray(index_pt2)\n",
    "\n",
    "        index_pt3 = np.where((points == pt3).all(axis=1))\n",
    "        index_pt3 = extract_index_nparray(index_pt3)\n",
    "\n",
    "        if index_pt1 is not None and index_pt2 is not None and index_pt3 is not None:\n",
    "            triangle = [index_pt1, index_pt2, index_pt3]\n",
    "            indexes_triangles.append(triangle)\n",
    "    return indexes_triangles"
   ]
  },
  {
   "cell_type": "code",
   "execution_count": 7,
   "id": "7ca794d9",
   "metadata": {},
   "outputs": [],
   "source": [
    "def affineTransform(indexes_triangles, img, img2_new_face, source_landmark_points, points1, dest_landmark_points, points2):\n",
    "    for triangle_index in indexes_triangles:\n",
    "        \n",
    "        # Triangulation of the first face\n",
    "        tr1_pt1 = source_landmark_points[triangle_index[0]]\n",
    "        tr1_pt2 = source_landmark_points[triangle_index[1]]\n",
    "        tr1_pt3 = source_landmark_points[triangle_index[2]]\n",
    "        triangle1 = np.array([tr1_pt1, tr1_pt2, tr1_pt3], np.int32)\n",
    "\n",
    "\n",
    "        rect1 = cv2.boundingRect(triangle1)\n",
    "        (x, y, w, h) = rect1\n",
    "        cropped_triangle = img[y: y + h, x: x + w]\n",
    "        cropped_tr1_mask = np.zeros((h, w), np.uint8)\n",
    "\n",
    "\n",
    "        points = np.array([[tr1_pt1[0] - x, tr1_pt1[1] - y],\n",
    "                           [tr1_pt2[0] - x, tr1_pt2[1] - y],\n",
    "                           [tr1_pt3[0] - x, tr1_pt3[1] - y]], np.int32)\n",
    "\n",
    "        cv2.fillConvexPoly(cropped_tr1_mask, points, 255)\n",
    "\n",
    "        # Lines space\n",
    "        cv2.line(lines_space_mask, tr1_pt1, tr1_pt2, 255)\n",
    "        cv2.line(lines_space_mask, tr1_pt2, tr1_pt3, 255)\n",
    "        cv2.line(lines_space_mask, tr1_pt1, tr1_pt3, 255)\n",
    "        lines_space = cv2.bitwise_and(img, img, mask=lines_space_mask)\n",
    "\n",
    "        # Triangulation of second face\n",
    "        tr2_pt1 = dest_landmark_points[triangle_index[0]]\n",
    "        tr2_pt2 = dest_landmark_points[triangle_index[1]]\n",
    "        tr2_pt3 = dest_landmark_points[triangle_index[2]]\n",
    "        triangle2 = np.array([tr2_pt1, tr2_pt2, tr2_pt3], np.int32)\n",
    "\n",
    "\n",
    "        rect2 = cv2.boundingRect(triangle2)\n",
    "        (x, y, w, h) = rect2\n",
    "\n",
    "        cropped_tr2_mask = np.zeros((h, w), np.uint8)\n",
    "\n",
    "        points2 = np.array([[tr2_pt1[0] - x, tr2_pt1[1] - y],\n",
    "                            [tr2_pt2[0] - x, tr2_pt2[1] - y],\n",
    "                            [tr2_pt3[0] - x, tr2_pt3[1] - y]], np.int32)\n",
    "\n",
    "        cv2.fillConvexPoly(cropped_tr2_mask, points2, 255)\n",
    "\n",
    "        # Warp triangles\n",
    "        points = np.float32(points)\n",
    "        points2 = np.float32(points2)\n",
    "        M = cv2.getAffineTransform(points, points2)\n",
    "        warped_triangle = cv2.warpAffine(cropped_triangle, M, (w, h))\n",
    "        warped_triangle = cv2.bitwise_and(warped_triangle, warped_triangle, mask=cropped_tr2_mask)\n",
    "\n",
    "        # Reconstructing destination face\n",
    "        img2_new_face_rect_area = img2_new_face[y: y + h, x: x + w]\n",
    "        img2_new_face_rect_area_gray = cv2.cvtColor(img2_new_face_rect_area, cv2.COLOR_BGR2GRAY)\n",
    "        _, mask_triangles_designed = cv2.threshold(img2_new_face_rect_area_gray, 1, 255, cv2.THRESH_BINARY_INV)\n",
    "        warped_triangle = cv2.bitwise_and(warped_triangle, warped_triangle, mask=mask_triangles_designed)\n",
    "\n",
    "        img2_new_face_rect_area = cv2.add(img2_new_face_rect_area, warped_triangle)\n",
    "        img2_new_face[y: y + h, x: x + w] = img2_new_face_rect_area\n",
    "    return img2_new_face"
   ]
  },
  {
   "cell_type": "code",
   "execution_count": 8,
   "id": "b4043b82",
   "metadata": {},
   "outputs": [],
   "source": [
    "def match(img2_gray, img2, convexhull2, img2_new_face):\n",
    "    img2_face_mask = np.zeros_like(img2_gray)\n",
    "    img2_head_mask = cv2.fillConvexPoly(img2_face_mask, convexhull2, 255)\n",
    "    img2_face_mask = cv2.bitwise_not(img2_head_mask)\n",
    "\n",
    "\n",
    "    img2_head_noface = cv2.bitwise_and(img2, img2, mask=img2_face_mask)\n",
    "    result = cv2.add(img2_head_noface, img2_new_face)\n",
    "\n",
    "    (x, y, w, h) = cv2.boundingRect(convexhull2)\n",
    "    center_face2 = (int((x + x + w) / 2), int((y + y + h) / 2))\n",
    "\n",
    "    seamlessclone = cv2.seamlessClone(result, img2, img2_head_mask, center_face2, cv2.NORMAL_CLONE)\n",
    "    return seamlessclone"
   ]
  },
  {
   "cell_type": "markdown",
   "id": "91f9d81e",
   "metadata": {},
   "source": [
    "# Chuẩn bị source"
   ]
  },
  {
   "cell_type": "code",
   "execution_count": 9,
   "id": "d21c7381",
   "metadata": {},
   "outputs": [],
   "source": [
    "source_img = cv2.imread(SOURCE)\n",
    "source_gray = cv2.cvtColor(source_img, cv2.COLOR_BGR2GRAY)\n",
    "source_mask = np.zeros_like(source_gray)"
   ]
  },
  {
   "cell_type": "code",
   "execution_count": 10,
   "id": "6fdf54d8",
   "metadata": {},
   "outputs": [],
   "source": [
    "source_img_copy = np.copy(source_img)\n",
    "source_gray_copy = np.copy(source_gray)\n",
    "source_mask_copy = np.copy(source_mask)"
   ]
  },
  {
   "cell_type": "code",
   "execution_count": 11,
   "id": "0c6e0f27",
   "metadata": {},
   "outputs": [],
   "source": [
    "src_points, src_landmark_points, src_convexhull = constructLandmarks(source_gray)\n",
    "lines_space_mask = np.zeros_like(source_gray_copy)"
   ]
  },
  {
   "cell_type": "code",
   "execution_count": 12,
   "id": "1406676b",
   "metadata": {},
   "outputs": [],
   "source": [
    "index_triangles = exportTriangles(src_convexhull, src_points, src_landmark_points)"
   ]
  },
  {
   "cell_type": "code",
   "execution_count": 13,
   "id": "477378e3",
   "metadata": {},
   "outputs": [],
   "source": [
    "input_video_path = './Mark-vid-input.mp4'\n",
    "cap = cv2.VideoCapture(input_video_path)\n",
    "# cap = cv2.VideoCapture(0)"
   ]
  },
  {
   "cell_type": "code",
   "execution_count": 14,
   "id": "5610dfc0",
   "metadata": {},
   "outputs": [],
   "source": [
    "width = round(cap.get(cv2.CAP_PROP_FRAME_WIDTH))\n",
    "height = round(cap.get(cv2.CAP_PROP_FRAME_HEIGHT))\n",
    "fps = round(cap.get(cv2.CAP_PROP_FPS))"
   ]
  },
  {
   "cell_type": "code",
   "execution_count": 15,
   "id": "d99ca1c7",
   "metadata": {},
   "outputs": [],
   "source": [
    "fourcc = cv2.VideoWriter_fourcc(*'MP4V')\n",
    "out = cv2.VideoWriter(\"ResultSwapVid.mp4\", fourcc, fps, (width, height))"
   ]
  },
  {
   "cell_type": "code",
   "execution_count": 16,
   "id": "57616c78",
   "metadata": {
    "scrolled": true
   },
   "outputs": [],
   "source": [
    "while(cap.isOpened()):\n",
    "    ret, frame = cap.read()\n",
    "    if ret:\n",
    "        # Img, gray, mask for dest\n",
    "        dest_img = frame\n",
    "        dest_gray = cv2.cvtColor(dest_img, cv2.COLOR_BGR2GRAY)\n",
    "        dest_mask = np.zeros_like(source_gray)\n",
    "        height, width, channels = dest_img.shape\n",
    "        dest_new_face = np.zeros((height, width, channels), np.uint8)\n",
    "        \n",
    "        \n",
    "        # Copy for dest\n",
    "        dest_img_copy = np.copy(dest_img)\n",
    "        dest_gray_copy = np.copy(dest_gray)\n",
    "        dest_mask_copy = np.copy(dest_mask)\n",
    "        lines_space_new_face = np.zeros_like(dest_img_copy)\n",
    "        \n",
    "        # Get params for dest\n",
    "        dest_points, dest_landmark_points, dest_convexhull = constructLandmarks(dest_gray_copy)\n",
    "        \n",
    "        # Transform\n",
    "        dest_new_face = affineTransform(index_triangles, source_img_copy, dest_new_face, src_landmark_points, src_points, dest_landmark_points, dest_points)\n",
    "        \n",
    "        # Swap and match\n",
    "        result = match(dest_gray_copy, dest_img_copy, dest_convexhull, dest_new_face)\n",
    "        \n",
    "        out.write(result)\n",
    "        cv2.imshow(\"frame\", result)\n",
    "        if cv2.waitKey(1) & 0xFF == ord('q'):\n",
    "            break\n",
    "    else:\n",
    "        break\n",
    "        \n",
    "cap.release()\n",
    "out.release()\n",
    "cv2.destroyAllWindows()"
   ]
  }
 ],
 "metadata": {
  "kernelspec": {
   "display_name": "Python 3 (ipykernel)",
   "language": "python",
   "name": "python3"
  },
  "language_info": {
   "codemirror_mode": {
    "name": "ipython",
    "version": 3
   },
   "file_extension": ".py",
   "mimetype": "text/x-python",
   "name": "python",
   "nbconvert_exporter": "python",
   "pygments_lexer": "ipython3",
   "version": "3.9.13"
  }
 },
 "nbformat": 4,
 "nbformat_minor": 5
}
